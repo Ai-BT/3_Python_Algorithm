{
 "cells": [
  {
   "cell_type": "markdown",
   "metadata": {},
   "source": [
    "### 11. Unless explicitly silenced. (단, 명시적으로 조용히 처리할 수 있다면 예외이다.)"
   ]
  },
  {
   "cell_type": "code",
   "execution_count": null,
   "metadata": {},
   "outputs": [],
   "source": [
    "# 1) 오류를 명시적으로 무시하는 경우 (파일이 없으면 생성)\n",
    "# 파일이 없는 경우에만 파일을 새로 만드는 의도를 드러낸다\n",
    "def open_or_create_file(filename):\n",
    "    try:\n",
    "        with open(filename, 'r') as f:\n",
    "            print(f.read())\n",
    "    except FileNotFoundError:\n",
    "        # 파일이 없으면 새로 생성\n",
    "        with open(filename, 'w') as f:\n",
    "            print(f\"{filename} created.\")\n",
    "\n",
    "# 파일이 있을 때\n",
    "open_or_create_file(\"existing_file.txt\")\n",
    "\n",
    "# 파일이 없을 때\n",
    "open_or_create_file(\"new_file.txt\")\n",
    "\n",
    "\n",
    "# 2) 특정 상황에서의 오류 무시 (기록 로그 삭제 실패 시 무시)\n",
    "# 로그 파일을 삭제할 때, 로그 파일이 없더라도 프로그램이 계속 정상적으로 작동하게 하려면 오류를 무시할 수 있습니다. \n",
    "# 아래 예제에서는 파일이 존재하지 않는 경우 예외를 발생시키지 않고 조용히 넘어갑니다.\n",
    "import os\n",
    "\n",
    "def delete_log_file(logfile):\n",
    "    try:\n",
    "        os.remove(logfile)\n",
    "    except FileNotFoundError:\n",
    "        # 로그 파일이 없으면 그냥 넘어감\n",
    "        pass\n",
    "\n",
    "# 로그 파일이 있을 때 삭제\n",
    "delete_log_file(\"app.log\")\n",
    "\n",
    "# 로그 파일이 없을 때도 오류 없이 넘어감\n",
    "delete_log_file(\"app.log\")\n",
    "\n",
    "\n",
    "# 3) 불필요한 경고 무시하기 (특정 라이브러리 경고 무시)\n",
    "# 라이브러리에서 발생하는 경고가 프로그램의 주요 기능에 영향을 주지 않는 경우, 경고를 무시하도록 설정할 수 있습니다.\n",
    "import warnings\n",
    "\n",
    "def some_function():\n",
    "    # 특정 경고를 조용히 무시\n",
    "    warnings.filterwarnings(\"ignore\", category=UserWarning)\n",
    "    warnings.warn(\"This is a user warning\", UserWarning)\n",
    "\n",
    "some_function()  # UserWarning이 발생하지만, 조용히 무시함"
   ]
  },
  {
   "cell_type": "markdown",
   "metadata": {},
   "source": [
    "### 12. In the face of ambiguity, refuse the temptation to guess. (모호한 상황에서는 추측하지 말라.)"
   ]
  },
  {
   "cell_type": "code",
   "execution_count": null,
   "metadata": {},
   "outputs": [],
   "source": [
    "# 1) 모호한 입력에 대한 추측 (비추천)\n",
    "def calculate_area(radius):\n",
    "    # radius가 None인 경우 임의로 1을 기본값으로 사용\n",
    "    if radius is None:\n",
    "        radius = 1  # 임의의 값 설정\n",
    "    return 3.1415 * radius ** 2\n",
    "\n",
    "print(calculate_area(None))  # 예상치 못한 기본값 사용\n",
    "\n",
    "\n",
    "# 2) 명확하게 예외 처리 (추천)\n",
    "def calculate_area(radius):\n",
    "    # radius가 None이거나 음수인 경우 명확하게 예외 처리\n",
    "    if radius is None:\n",
    "        raise ValueError(\"Radius must be provided.\")\n",
    "    if radius < 0:\n",
    "        raise ValueError(\"Radius cannot be negative.\")\n",
    "    return 3.1415 * radius ** 2\n",
    "\n",
    "print(calculate_area(5))    # 정상 동작\n",
    "print(calculate_area(None))  # 명확한 예외 발생\n",
    "\n",
    "\n",
    "# 3) 모호한 조건을 피하는 코드 작성 (문서화와 기본값 활용)\n",
    "def calculate_area(radius=1):\n",
    "    if radius < 0:\n",
    "        raise ValueError(\"Radius cannot be negative.\")\n",
    "    return 3.1415 * radius ** 2\n",
    "\n",
    "print(calculate_area())    # 기본값 1 사용\n",
    "print(calculate_area(3))   # 반지름 3 사용\n",
    "\n",
    "# 코드가 모호하거나 불확실한 상황에서 추측하지 않고, 확실하게 해결하거나 명확하게 표현하는 것을 권장"
   ]
  },
  {
   "cell_type": "markdown",
   "metadata": {},
   "source": [
    "### 13. There should be one-- and preferably only one --obvious way to do it. (하나의 작업을 수행할 때 가장 명백하고 직관적인 방법을 사용하자.)"
   ]
  },
  {
   "cell_type": "code",
   "execution_count": null,
   "metadata": {},
   "outputs": [],
   "source": [
    "numbers = [1, 2, 3, 4, 5]\n",
    "\n",
    "# 방법 1: for 루프를 사용하여 리스트에 추가\n",
    "squared_numbers = []\n",
    "for num in numbers:\n",
    "    squared_numbers.append(num ** 2)\n",
    "\n",
    "# 방법 2: map 함수를 사용하여 제곱 계산\n",
    "squared_numbers_map = list(map(lambda x: x ** 2, numbers))\n",
    "\n",
    "# 방법 3: 리스트 컴프리헨션 사용\n",
    "squared_numbers_comp = [num ** 2 for num in numbers]\n",
    "\n",
    "\n",
    "# 하나의 명백한 방법: 리스트 컴프리헨션을 사용하여 제곱 계산\n",
    "numbers = [1, 2, 3, 4, 5]\n",
    "squared_numbers = [num ** 2 for num in numbers]\n",
    "\n",
    "# 차이점 설명\n",
    "# 여러 가지 방법으로 작성된 코드\n",
    "# 한 작업을 여러 방식으로 작성하면 가독성이 떨어지고, \n",
    "# 코드가 복잡하게 느껴질 수 있습니다. 각 방식의 차이점을 이해해야 하고, \n",
    "# 개발자마다 다른 방식을 선호할 수도 있어 팀 내에서도 코드 일관성이 떨어질 수 있다.\n",
    "\n",
    "# 하나의 명백한 방법으로 작성된 코드\n",
    "# Python의 관용구적 스타일을 따른 한 가지 방법으로 코드를 작성하면, 코드가 일관되고 명확해지며, \n",
    "# 다른 개발자들도 코드의 의도를 쉽게 이해할 수 있다."
   ]
  },
  {
   "cell_type": "markdown",
   "metadata": {},
   "source": [
    "### 14. Although that way may not be obvious at first unless you're Dutch. (비록 그 방법이 처음에는 명백하지 않을 수 있지만, 네덜란드인에게는 명백할 것이다.)"
   ]
  },
  {
   "cell_type": "code",
   "execution_count": null,
   "metadata": {},
   "outputs": [],
   "source": [
    "# 이썬을 처음 접할 때 이해하기 어려운 문법이더라도 익숙해지면 명확해진다는 뜻입니다.\n",
    "# Python의 설계 철학은 처음에는 낯설게 느껴질 수 있지만, 익숙해지고 철학을 이해하게 되면 명확하게 느껴질 것이라는 의미"
   ]
  },
  {
   "cell_type": "markdown",
   "metadata": {},
   "source": [
    "### 15.Now is better than never. (지금이 결코보다 낫다.)"
   ]
  },
  {
   "cell_type": "code",
   "execution_count": null,
   "metadata": {},
   "outputs": [],
   "source": [
    "# 코드 작성 시작하기\n",
    "def start_project():\n",
    "    pass  # Just start coding instead of waiting for perfect time\n",
    "\n",
    "# 완벽을 기약하며 미루기보다는, 지금이라도 시작하는 것이 낫다.\n",
    "# 단 지금 가능한 만큼 시작하고 점진적으로 개선하라는 의미입니다."
   ]
  }
 ],
 "metadata": {
  "language_info": {
   "name": "python"
  }
 },
 "nbformat": 4,
 "nbformat_minor": 2
}
