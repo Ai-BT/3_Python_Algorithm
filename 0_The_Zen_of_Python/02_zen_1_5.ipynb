{
 "cells": [
  {
   "cell_type": "markdown",
   "metadata": {},
   "source": [
    "### 1. Beautiful is better than ugly. (아름다움은 추함보다 낫다.)\n"
   ]
  },
  {
   "cell_type": "code",
   "execution_count": null,
   "metadata": {},
   "outputs": [],
   "source": [
    "# Beautiful\n",
    "def calculate_area(radius):\n",
    "    return 3.1415 * radius ** 2\n",
    "\n",
    "# Ugly\n",
    "def a(r): return 3.1415 * r ** 2\n",
    "\n",
    "# 코드가 명확하고, 보기 좋으며, 이해하기 쉬운 방식으로 작성되어야 한다는 의미이다. \n",
    "# 코드 길이를 줄이기 위해 지나치게 압축하거나 가독성을 희생하는 것보다, 조금 길더라도 명확하게 작성하는 것이 더 좋다는 철학이다. "
   ]
  },
  {
   "cell_type": "markdown",
   "metadata": {},
   "source": [
    "### 2. Explicit is better than implicit. (명시적인 것이 암시적인 것보다 낫다.)\n"
   ]
  },
  {
   "cell_type": "code",
   "execution_count": null,
   "metadata": {},
   "outputs": [],
   "source": [
    "# Explicit\n",
    "user_age = 25\n",
    "is_eligible = user_age >= 18\n",
    "\n",
    "# Implicit (not clear what 18 means)\n",
    "age = 25\n",
    "eligible = age >= 18\n",
    "\n",
    "#==============================================#\n",
    "\n",
    "# Explicit\n",
    "def add_numbers(first_number, second_number):\n",
    "    return first_number + second_number\n",
    "\n",
    "num1 = 5\n",
    "num2 = 10\n",
    "print(add_numbers(num1, num2))\n",
    "\n",
    "# Implicit\n",
    "def c(a, b):\n",
    "    return a + b\n",
    "\n",
    "x = 5\n",
    "y = 10\n",
    "print(c(x, y))\n",
    "\n",
    "\n",
    "# 명시적이라는 것은 코드가 어떤 동작을 하는지 직관적으로 드러난다는 의미\n",
    "# 암시적인 코드는 코드를 작성한 사람에게는 당연하게 보일 수 있지만, \n",
    "# 다른 사람이나 시간이 지나서 다시 본 사람에게는 의도가 분명하지 않을 수 있다.\n",
    "# 코드를 명시적으로 작성하면 읽는 사람이 코드의 의도와 흐름을 쉽게 이해할 수 있다."
   ]
  },
  {
   "cell_type": "markdown",
   "metadata": {},
   "source": [
    "### 3. Simple is better than complex. (단순함이 복잡함보다 낫다.)"
   ]
  },
  {
   "cell_type": "code",
   "execution_count": null,
   "metadata": {},
   "outputs": [],
   "source": [
    "# Simple\n",
    "def greet(name):\n",
    "    return f\"Hello, {name}!\"\n",
    "\n",
    "# Complex\n",
    "def greet(name, formal=False):\n",
    "    if formal:\n",
    "        return f\"Good day, {name}. How do you do?\"\n",
    "    else:\n",
    "        return f\"Hello, {name}!\"\n",
    "    \n",
    "#==============================================#\n",
    "\n",
    "# Simple\n",
    "def sum_of_even_squares(numbers):\n",
    "    \"\"\"리스트의 숫자 중 짝수의 제곱 합을 계산합니다.\"\"\"\n",
    "    return sum(n ** 2 for n in numbers if (n ** 2) % 2 == 0)\n",
    "\n",
    "numbers = [1, 2, 3, 4, 5]\n",
    "print(sum_of_even_squares(numbers))\n",
    "\n",
    "\n",
    "# Complex\n",
    "def complex_function(numbers):\n",
    "    squared_numbers = []\n",
    "    for n in numbers:\n",
    "        squared_numbers.append(n ** 2)\n",
    "    \n",
    "    even_squared_numbers = []\n",
    "    for n in squared_numbers:\n",
    "        if n % 2 == 0:\n",
    "            even_squared_numbers.append(n)\n",
    "    \n",
    "    total_sum = 0\n",
    "    for n in even_squared_numbers:\n",
    "        total_sum += n\n",
    "    \n",
    "    return total_sum\n",
    "\n",
    "numbers = [1, 2, 3, 4, 5]\n",
    "print(complex_function(numbers))\n",
    "\n",
    "\n",
    "# 코드가 단순할수록 이해하고 유지보수하기가 쉽다.\n",
    "# 복잡한 코드가 필요한 경우도 있지만, 불필요하게 복잡한 구조를 사용하면 코드의 가독성과 유지보수성이 떨어진다.\n",
    "# 단순한 코드는 더 적은 논리 흐름과 간결한 구성으로 의도를 명확하게 표현하며, 버그가 발생할 가능성도 줄어든다. \n",
    "# Python은 간단하고 직관적인 코드 작성을 지향하며, 가능한 한 복잡도를 낮추는 것이 좋다."
   ]
  }
 ],
 "metadata": {
  "language_info": {
   "name": "python"
  }
 },
 "nbformat": 4,
 "nbformat_minor": 2
}
