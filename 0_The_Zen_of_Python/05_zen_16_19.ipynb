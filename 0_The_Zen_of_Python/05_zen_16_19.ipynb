{
 "cells": [
  {
   "cell_type": "markdown",
   "metadata": {},
   "source": [
    "### 16. Although never is often better than right now. (지금 당장 서둘러 잘못된 방식으로 실행하는 것보다는, 차라리 하지 않는 것이 나을 때도 있다)"
   ]
  },
  {
   "cell_type": "code",
   "execution_count": null,
   "metadata": {},
   "outputs": [],
   "source": [
    "def connect_to_database():\n",
    "    # 미리 준비되지 않은 설정을 서둘러 사용\n",
    "    db_config = None  # 아직 설정되지 않은 값\n",
    "    connection = db_config.connect()  # 오류 발생 가능\n",
    "    return connection\n",
    "\n",
    "connect_to_database()"
   ]
  },
  {
   "cell_type": "markdown",
   "metadata": {},
   "source": [
    "### 17. If the implementation is hard to explain, it's a bad idea. (설명이 어려운 구현이라면 좋은 생각이 아니다.)"
   ]
  },
  {
   "cell_type": "code",
   "execution_count": null,
   "metadata": {},
   "outputs": [],
   "source": [
    "# Easy to understand implementation\n",
    "def calculate_sum(numbers):\n",
    "    return sum(numbers)\n",
    "\n",
    "# Hard to understand and unnecessarily complex\n",
    "def calc_sum(nums):\n",
    "    total = 0\n",
    "    for n in nums:\n",
    "        total += n\n",
    "    return total"
   ]
  },
  {
   "cell_type": "markdown",
   "metadata": {},
   "source": [
    "### 18. If the implementation is easy to explain, it may be a good idea. (설명이 쉬운 구현이라면 좋은 생각일 수 있다.)"
   ]
  },
  {
   "cell_type": "code",
   "execution_count": null,
   "metadata": {},
   "outputs": [],
   "source": [
    "# Simple and easy-to-explain function\n",
    "def is_even(number):\n",
    "    return number % 2 == 0"
   ]
  },
  {
   "cell_type": "markdown",
   "metadata": {},
   "source": [
    "### 19. Namespaces are one honking great idea -- let's do more of those! (네임스페이스는 정말 멋진 아이디어다. 더 많이 활용하자! )"
   ]
  },
  {
   "cell_type": "code",
   "execution_count": null,
   "metadata": {},
   "outputs": [],
   "source": [
    "# Using namespaces to avoid conflicts\n",
    "import math\n",
    "import statistics\n",
    "\n",
    "print(math.pi)\n",
    "print(statistics.mean([1, 2, 3]))"
   ]
  }
 ],
 "metadata": {
  "language_info": {
   "name": "python"
  }
 },
 "nbformat": 4,
 "nbformat_minor": 2
}
