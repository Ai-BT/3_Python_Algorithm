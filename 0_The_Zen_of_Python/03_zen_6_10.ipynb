{
 "cells": [
  {
   "cell_type": "markdown",
   "metadata": {},
   "source": [
    "### 6. Sparse is better than dense. (여유 있는 것이 빽빽한 것보다 낫다.)"
   ]
  },
  {
   "cell_type": "code",
   "execution_count": null,
   "metadata": {},
   "outputs": [],
   "source": [
    "# Sparse (easy to read)\n",
    "def add(a, b):\n",
    "    return a + b\n",
    "\n",
    "# Dense (hard to read)\n",
    "def add(a,b): return a+b\n",
    "\n",
    "# 코드가 너무 붙여서 작성된 것보다, 적절한 여백을 둔 코드가 더 가독성이 높다고 생각한다.\n",
    "# 빽빽하게 작성된 코드는 이해하기 어렵고 유지보수가 힘들어진다. \n",
    "# 반면, 코드에 적절한 여유를 두면 각 부분의 역할이 명확해져 가독성이 높아지고, 코드를 읽는 사람이 전체 구조를 쉽게 파악할 수 있다. "
   ]
  },
  {
   "cell_type": "markdown",
   "metadata": {},
   "source": [
    "### 7. Readability counts. (가독성은 중요하다.)"
   ]
  },
  {
   "cell_type": "code",
   "execution_count": null,
   "metadata": {},
   "outputs": [],
   "source": [
    "# Readable\n",
    "def calculate_total_price(price, tax_rate):\n",
    "    return price * (1 + tax_rate)\n",
    "\n",
    "# Less readable\n",
    "def calc_tot(p, t):\n",
    "    return p * (1 + t)"
   ]
  },
  {
   "cell_type": "markdown",
   "metadata": {},
   "source": [
    "### 8. Special cases aren't special enough to break the rules. (특별한 경우도 규칙을 깰 정도로 특별하지 않다.)"
   ]
  },
  {
   "cell_type": "code",
   "execution_count": null,
   "metadata": {},
   "outputs": [],
   "source": [
    "# 규칙을 깨는 코드 (복잡한 처리)\n",
    "def check_number(n):\n",
    "    if n == 0:\n",
    "        return \"Zero\"\n",
    "    elif n > 0:\n",
    "        return \"Positive\"\n",
    "    else:\n",
    "        return \"Negative\"\n",
    "\n",
    "print(check_number(5))  # Positive\n",
    "print(check_number(-3)) # Negative\n",
    "print(check_number(0))  # Zero\n",
    "\n",
    "# 규칙을 유지한 코드 (간단하고 일관성 있는 처리)\n",
    "def check_number(n):\n",
    "    if n > 0:\n",
    "        return \"Positive\"\n",
    "    elif n < 0:\n",
    "        return \"Negative\"\n",
    "    return \"Zero\"  # 특별한 경우인 0은 마지막에 간단히 처리\n",
    "\n",
    "print(check_number(5))  # Positive\n",
    "print(check_number(-3)) # Negative\n",
    "print(check_number(0))  # Zero\n",
    "\n",
    "# 0을 별도로 처리하지 않고 마지막에 간단히 \"Zero\"를 반환하도록 했으며, \n",
    "# 특별한 경우를 위한 불필요한 조건을 제거하여 규칙을 깨지 않고 자연스럽게 처리\n",
    "\n",
    "# \"특별한 경우\"라는 것은 어떤 예외 상황이나 특수한 조건을 의미한다. \n",
    "# 특별한 경우가 있더라도 일반적인 규칙을 따르는 것이 좋으며, 그 상황을 위해 굳이 규칙을 깨는 복잡한 코드를 작성할 필요는 없다는 뜻이다.\n",
    "# 이를 통해 코드의 일관성을 유지할 수 있으며, 예외적인 경우를 위해 전체 코드 구조를 변경하거나 복잡성을 더하지 않도록 권장한다.\n"
   ]
  },
  {
   "cell_type": "markdown",
   "metadata": {},
   "source": [
    "### 9. Practicality beats purity. (실용성이 순수함을 이긴다.)"
   ]
  },
  {
   "cell_type": "code",
   "execution_count": null,
   "metadata": {},
   "outputs": [],
   "source": [
    "# Practical\n",
    "# 실용적인 코드 (간단한 처리)\n",
    "def sum_even_numbers(numbers):\n",
    "    # 짝수만 더함\n",
    "    return sum(n for n in numbers if n % 2 == 0)\n",
    "\n",
    "print(sum_even_numbers([1, 2, 3, 4, 5]))  # 6\n",
    "\n",
    "\n",
    "# Pure but impractical (writing your own join function)\n",
    "# 순수성을 추구한 코드 (복잡한 처리)\n",
    "def sum_even_numbers(numbers):\n",
    "    total = 0\n",
    "    for n in numbers:\n",
    "        # 모든 요소가 숫자인지 확인한 후 짝수만 더하기\n",
    "        if isinstance(n, int) and n % 2 == 0:\n",
    "            total += n\n",
    "        elif not isinstance(n, int):\n",
    "            print(f\"Warning: {n} is not an integer, ignoring it.\")\n",
    "    return total\n",
    "\n",
    "print(sum_even_numbers([1, 2, \"three\", 4, 5]))  # Warning 출력 후 6 반환\n",
    "\n",
    "\n",
    "# 실용성이란 코드가 현실적인 문제를 해결하는 데 초점을 맞춘다는 의미이다. \n",
    "# 순수하게 \"완벽하고 이상적인 코드\"를 작성하려다 보면, 때로는 코드가 너무 복잡해지거나, 성능이 떨어지거나, 개발 시간이 오래 걸릴 수 있다. \n",
    "# 이럴 때는 \"실용적인 접근\"을 택해, 적당히 작동하고 목적을 달성하는 쪽으로 코드를 작성하는 것이 더 좋다. \n",
    "# 실용성은 가독성이나 성능, 개발 효율성을 고려하여 최적의 해결책을 선택하는 것을 의미한다."
   ]
  },
  {
   "cell_type": "markdown",
   "metadata": {},
   "source": [
    "### 10. Errors should never pass silently. (오류는 절대 조용히 넘겨서는 안 된다.)"
   ]
  },
  {
   "cell_type": "code",
   "execution_count": null,
   "metadata": {},
   "outputs": [],
   "source": [
    "# 오류를 조용히 넘기는 코드 (비추천)\n",
    "def divide(a, b):\n",
    "    try:\n",
    "        return a / b\n",
    "    except ZeroDivisionError:\n",
    "        pass  # 오류가 발생해도 조용히 무시함\n",
    "\n",
    "print(divide(10, 2))  # 5.0\n",
    "print(divide(10, 0))  # None (하지만 오류 메시지 없음)\n",
    "\n",
    "\n",
    "# 오류를 명확히 드러내는 코드 (추천)\n",
    "def divide(a, b):\n",
    "    try:\n",
    "        return a / b\n",
    "    except ZeroDivisionError:\n",
    "        print(\"Error: Division by zero is not allowed.\")\n",
    "        return None\n",
    "\n",
    "print(divide(10, 2))  # 5.0\n",
    "print(divide(10, 0))  # Error 메시지 출력 후 None 반환\n",
    "\n",
    "\n",
    "# 코드에서 오류가 발생할 경우 이를 무시하거나 조용히 지나치기보다는, 오류를 명확히 드러내는 것이 중요하다고 생각한다. \n",
    "# 오류가 발생했을 때 이를 적극적으로 처리하지 않고 그냥 넘어가면, \n",
    "# 버그를 찾기 어려워지고 코드가 잘못 작동할 가능성이 커진다. \n",
    "# 따라서, 오류가 발생하면 이를 로그로 기록하거나 예외 처리를 통해 원인을 명확히 드러내는 것이 좋다. \n",
    "# 단, 필요할 때는 명시적으로 오류를 무시할 수 있지만, \n",
    "# 그렇지 않다면 기본적으로 오류가 발생한 원인을 알 수 있도록 해주는 것이 Python 철학에 부합하다"
   ]
  }
 ],
 "metadata": {
  "language_info": {
   "name": "python"
  }
 },
 "nbformat": 4,
 "nbformat_minor": 2
}
